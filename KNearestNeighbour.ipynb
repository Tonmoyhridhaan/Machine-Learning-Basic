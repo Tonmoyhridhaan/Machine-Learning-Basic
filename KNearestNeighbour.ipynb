{
  "nbformat": 4,
  "nbformat_minor": 0,
  "metadata": {
    "colab": {
      "name": "1703310201373_KNN.ipynb",
      "provenance": [],
      "collapsed_sections": []
    },
    "kernelspec": {
      "name": "python3",
      "display_name": "Python 3"
    }
  },
  "cells": [
    {
      "cell_type": "code",
      "metadata": {
        "id": "-xi51fynr5Sd",
        "colab": {
          "base_uri": "https://localhost:8080/"
        },
        "outputId": "9ff25762-c608-4ec9-cfb1-081ef5e13d50"
      },
      "source": [
        "#import data by connecting to your google drive\n",
        "from google.colab import drive\n",
        "drive.mount('/content/drive')"
      ],
      "execution_count": null,
      "outputs": [
        {
          "output_type": "stream",
          "name": "stdout",
          "text": [
            "Drive already mounted at /content/drive; to attempt to forcibly remount, call drive.mount(\"/content/drive\", force_remount=True).\n"
          ]
        }
      ]
    },
    {
      "cell_type": "code",
      "metadata": {
        "id": "eulcf-S3scP0"
      },
      "source": [
        "#Navigate to the file/data location in your drive and cd into it"
      ],
      "execution_count": null,
      "outputs": []
    },
    {
      "cell_type": "markdown",
      "source": [
        "## K-Nearest Neighbors (K-NN)"
      ],
      "metadata": {
        "id": "dbcHkAHQhKMf"
      }
    },
    {
      "cell_type": "code",
      "source": [
        "# Importing the libraries\n",
        "import numpy as np\n",
        "import matplotlib.pyplot as plt\n",
        "import pandas as pd"
      ],
      "metadata": {
        "id": "VbdcCrflhSlz"
      },
      "execution_count": null,
      "outputs": []
    },
    {
      "cell_type": "code",
      "source": [
        "# Importing the dataset\n",
        "dataset = pd.read_csv('/content/drive/MyDrive/Colab Notebooks/ML/Social_Network_Ads.csv') #write appropriate path for this dataset\n",
        "X = dataset.iloc[:,1:3].values\n",
        "y = dataset.iloc[:,4].values\n",
        "X"
      ],
      "metadata": {
        "colab": {
          "base_uri": "https://localhost:8080/"
        },
        "id": "fLHmtmA_hXr_",
        "outputId": "31a7699a-80fc-4244-8895-bdb5ba1f9e30"
      },
      "execution_count": null,
      "outputs": [
        {
          "output_type": "execute_result",
          "data": {
            "text/plain": [
              "array([['Male', 19],\n",
              "       ['Male', 35],\n",
              "       ['Female', 26],\n",
              "       ['Female', 27],\n",
              "       ['Male', 19],\n",
              "       ['Male', 27],\n",
              "       ['Female', 27],\n",
              "       ['Female', 32],\n",
              "       ['Male', 25],\n",
              "       ['Female', 35],\n",
              "       ['Female', 26],\n",
              "       ['Female', 26],\n",
              "       ['Male', 20],\n",
              "       ['Male', 32],\n",
              "       ['Male', 18],\n",
              "       ['Male', 29],\n",
              "       ['Male', 47],\n",
              "       ['Male', 45],\n",
              "       ['Male', 46],\n",
              "       ['Female', 48],\n",
              "       ['Male', 45],\n",
              "       ['Female', 47],\n",
              "       ['Male', 48],\n",
              "       ['Female', 45],\n",
              "       ['Male', 46],\n",
              "       ['Male', 47],\n",
              "       ['Male', 49],\n",
              "       ['Female', 47],\n",
              "       ['Male', 29],\n",
              "       ['Male', 31],\n",
              "       ['Male', 31],\n",
              "       ['Female', 27],\n",
              "       ['Female', 21],\n",
              "       ['Female', 28],\n",
              "       ['Male', 27],\n",
              "       ['Male', 35],\n",
              "       ['Female', 33],\n",
              "       ['Male', 30],\n",
              "       ['Female', 26],\n",
              "       ['Female', 27],\n",
              "       ['Female', 27],\n",
              "       ['Female', 33],\n",
              "       ['Male', 35],\n",
              "       ['Male', 30],\n",
              "       ['Female', 28],\n",
              "       ['Male', 23],\n",
              "       ['Male', 25],\n",
              "       ['Female', 27],\n",
              "       ['Male', 30],\n",
              "       ['Female', 31],\n",
              "       ['Female', 24],\n",
              "       ['Female', 18],\n",
              "       ['Female', 29],\n",
              "       ['Female', 35],\n",
              "       ['Female', 27],\n",
              "       ['Female', 24],\n",
              "       ['Female', 23],\n",
              "       ['Male', 28],\n",
              "       ['Male', 22],\n",
              "       ['Female', 32],\n",
              "       ['Male', 27],\n",
              "       ['Male', 25],\n",
              "       ['Female', 23],\n",
              "       ['Male', 32],\n",
              "       ['Female', 59],\n",
              "       ['Male', 24],\n",
              "       ['Male', 24],\n",
              "       ['Female', 23],\n",
              "       ['Female', 22],\n",
              "       ['Female', 31],\n",
              "       ['Male', 25],\n",
              "       ['Female', 24],\n",
              "       ['Female', 20],\n",
              "       ['Female', 33],\n",
              "       ['Male', 32],\n",
              "       ['Male', 34],\n",
              "       ['Male', 18],\n",
              "       ['Female', 22],\n",
              "       ['Female', 28],\n",
              "       ['Female', 26],\n",
              "       ['Male', 30],\n",
              "       ['Male', 39],\n",
              "       ['Male', 20],\n",
              "       ['Male', 35],\n",
              "       ['Female', 30],\n",
              "       ['Female', 31],\n",
              "       ['Male', 24],\n",
              "       ['Female', 28],\n",
              "       ['Male', 26],\n",
              "       ['Male', 35],\n",
              "       ['Male', 22],\n",
              "       ['Female', 30],\n",
              "       ['Male', 26],\n",
              "       ['Female', 29],\n",
              "       ['Female', 29],\n",
              "       ['Female', 35],\n",
              "       ['Female', 35],\n",
              "       ['Male', 28],\n",
              "       ['Male', 35],\n",
              "       ['Female', 28],\n",
              "       ['Male', 27],\n",
              "       ['Male', 28],\n",
              "       ['Female', 32],\n",
              "       ['Female', 33],\n",
              "       ['Female', 19],\n",
              "       ['Male', 21],\n",
              "       ['Female', 26],\n",
              "       ['Male', 27],\n",
              "       ['Male', 26],\n",
              "       ['Female', 38],\n",
              "       ['Female', 39],\n",
              "       ['Female', 37],\n",
              "       ['Male', 38],\n",
              "       ['Male', 37],\n",
              "       ['Male', 42],\n",
              "       ['Male', 40],\n",
              "       ['Male', 35],\n",
              "       ['Male', 36],\n",
              "       ['Male', 40],\n",
              "       ['Male', 41],\n",
              "       ['Female', 36],\n",
              "       ['Male', 37],\n",
              "       ['Female', 40],\n",
              "       ['Male', 35],\n",
              "       ['Female', 41],\n",
              "       ['Female', 39],\n",
              "       ['Male', 42],\n",
              "       ['Male', 26],\n",
              "       ['Male', 30],\n",
              "       ['Female', 26],\n",
              "       ['Male', 31],\n",
              "       ['Male', 33],\n",
              "       ['Male', 30],\n",
              "       ['Female', 21],\n",
              "       ['Female', 28],\n",
              "       ['Male', 23],\n",
              "       ['Female', 20],\n",
              "       ['Male', 30],\n",
              "       ['Female', 28],\n",
              "       ['Male', 19],\n",
              "       ['Male', 19],\n",
              "       ['Female', 18],\n",
              "       ['Male', 35],\n",
              "       ['Male', 30],\n",
              "       ['Female', 34],\n",
              "       ['Female', 24],\n",
              "       ['Female', 27],\n",
              "       ['Female', 41],\n",
              "       ['Male', 29],\n",
              "       ['Male', 20],\n",
              "       ['Female', 26],\n",
              "       ['Male', 41],\n",
              "       ['Male', 31],\n",
              "       ['Female', 36],\n",
              "       ['Male', 40],\n",
              "       ['Female', 31],\n",
              "       ['Male', 46],\n",
              "       ['Male', 29],\n",
              "       ['Male', 26],\n",
              "       ['Female', 32],\n",
              "       ['Male', 32],\n",
              "       ['Male', 25],\n",
              "       ['Female', 37],\n",
              "       ['Male', 35],\n",
              "       ['Female', 33],\n",
              "       ['Female', 18],\n",
              "       ['Female', 22],\n",
              "       ['Female', 35],\n",
              "       ['Male', 29],\n",
              "       ['Female', 29],\n",
              "       ['Male', 21],\n",
              "       ['Male', 34],\n",
              "       ['Female', 26],\n",
              "       ['Female', 34],\n",
              "       ['Female', 34],\n",
              "       ['Female', 23],\n",
              "       ['Female', 35],\n",
              "       ['Male', 25],\n",
              "       ['Male', 24],\n",
              "       ['Female', 31],\n",
              "       ['Male', 26],\n",
              "       ['Female', 31],\n",
              "       ['Female', 32],\n",
              "       ['Male', 33],\n",
              "       ['Female', 33],\n",
              "       ['Male', 31],\n",
              "       ['Female', 20],\n",
              "       ['Female', 33],\n",
              "       ['Male', 35],\n",
              "       ['Male', 28],\n",
              "       ['Male', 24],\n",
              "       ['Female', 19],\n",
              "       ['Male', 29],\n",
              "       ['Male', 19],\n",
              "       ['Male', 28],\n",
              "       ['Male', 34],\n",
              "       ['Female', 30],\n",
              "       ['Female', 20],\n",
              "       ['Male', 26],\n",
              "       ['Male', 35],\n",
              "       ['Male', 35],\n",
              "       ['Male', 49],\n",
              "       ['Female', 39],\n",
              "       ['Female', 41],\n",
              "       ['Female', 58],\n",
              "       ['Female', 47],\n",
              "       ['Female', 55],\n",
              "       ['Female', 52],\n",
              "       ['Female', 40],\n",
              "       ['Female', 46],\n",
              "       ['Female', 48],\n",
              "       ['Male', 52],\n",
              "       ['Female', 59],\n",
              "       ['Male', 35],\n",
              "       ['Male', 47],\n",
              "       ['Female', 60],\n",
              "       ['Male', 49],\n",
              "       ['Male', 40],\n",
              "       ['Female', 46],\n",
              "       ['Male', 59],\n",
              "       ['Female', 41],\n",
              "       ['Male', 35],\n",
              "       ['Male', 37],\n",
              "       ['Male', 60],\n",
              "       ['Female', 35],\n",
              "       ['Male', 37],\n",
              "       ['Female', 36],\n",
              "       ['Male', 56],\n",
              "       ['Female', 40],\n",
              "       ['Female', 42],\n",
              "       ['Female', 35],\n",
              "       ['Male', 39],\n",
              "       ['Male', 40],\n",
              "       ['Male', 49],\n",
              "       ['Female', 38],\n",
              "       ['Male', 46],\n",
              "       ['Male', 40],\n",
              "       ['Female', 37],\n",
              "       ['Female', 46],\n",
              "       ['Female', 53],\n",
              "       ['Male', 42],\n",
              "       ['Male', 38],\n",
              "       ['Female', 50],\n",
              "       ['Female', 56],\n",
              "       ['Female', 41],\n",
              "       ['Female', 51],\n",
              "       ['Female', 35],\n",
              "       ['Female', 57],\n",
              "       ['Male', 41],\n",
              "       ['Female', 35],\n",
              "       ['Female', 44],\n",
              "       ['Male', 37],\n",
              "       ['Female', 48],\n",
              "       ['Female', 37],\n",
              "       ['Female', 50],\n",
              "       ['Female', 52],\n",
              "       ['Female', 41],\n",
              "       ['Male', 40],\n",
              "       ['Female', 58],\n",
              "       ['Female', 45],\n",
              "       ['Female', 35],\n",
              "       ['Male', 36],\n",
              "       ['Female', 55],\n",
              "       ['Female', 35],\n",
              "       ['Male', 48],\n",
              "       ['Female', 42],\n",
              "       ['Male', 40],\n",
              "       ['Male', 37],\n",
              "       ['Female', 47],\n",
              "       ['Male', 40],\n",
              "       ['Female', 43],\n",
              "       ['Female', 59],\n",
              "       ['Male', 60],\n",
              "       ['Male', 39],\n",
              "       ['Female', 57],\n",
              "       ['Male', 57],\n",
              "       ['Male', 38],\n",
              "       ['Male', 49],\n",
              "       ['Female', 52],\n",
              "       ['Female', 50],\n",
              "       ['Female', 59],\n",
              "       ['Male', 35],\n",
              "       ['Male', 37],\n",
              "       ['Female', 52],\n",
              "       ['Male', 48],\n",
              "       ['Female', 37],\n",
              "       ['Female', 37],\n",
              "       ['Female', 48],\n",
              "       ['Male', 41],\n",
              "       ['Female', 37],\n",
              "       ['Male', 39],\n",
              "       ['Male', 49],\n",
              "       ['Male', 55],\n",
              "       ['Male', 37],\n",
              "       ['Female', 35],\n",
              "       ['Female', 36],\n",
              "       ['Male', 42],\n",
              "       ['Female', 43],\n",
              "       ['Male', 45],\n",
              "       ['Male', 46],\n",
              "       ['Female', 58],\n",
              "       ['Male', 48],\n",
              "       ['Female', 37],\n",
              "       ['Male', 37],\n",
              "       ['Female', 40],\n",
              "       ['Male', 42],\n",
              "       ['Female', 51],\n",
              "       ['Female', 47],\n",
              "       ['Male', 36],\n",
              "       ['Female', 38],\n",
              "       ['Female', 42],\n",
              "       ['Male', 39],\n",
              "       ['Female', 38],\n",
              "       ['Female', 49],\n",
              "       ['Female', 39],\n",
              "       ['Female', 39],\n",
              "       ['Female', 54],\n",
              "       ['Male', 35],\n",
              "       ['Male', 45],\n",
              "       ['Male', 36],\n",
              "       ['Female', 52],\n",
              "       ['Female', 53],\n",
              "       ['Male', 41],\n",
              "       ['Female', 48],\n",
              "       ['Female', 48],\n",
              "       ['Female', 41],\n",
              "       ['Male', 41],\n",
              "       ['Female', 42],\n",
              "       ['Male', 36],\n",
              "       ['Female', 47],\n",
              "       ['Male', 38],\n",
              "       ['Female', 48],\n",
              "       ['Male', 42],\n",
              "       ['Male', 40],\n",
              "       ['Male', 57],\n",
              "       ['Female', 36],\n",
              "       ['Male', 58],\n",
              "       ['Male', 35],\n",
              "       ['Female', 38],\n",
              "       ['Male', 39],\n",
              "       ['Female', 53],\n",
              "       ['Male', 35],\n",
              "       ['Female', 38],\n",
              "       ['Female', 47],\n",
              "       ['Male', 47],\n",
              "       ['Female', 41],\n",
              "       ['Male', 53],\n",
              "       ['Female', 54],\n",
              "       ['Male', 39],\n",
              "       ['Male', 38],\n",
              "       ['Female', 38],\n",
              "       ['Male', 37],\n",
              "       ['Female', 42],\n",
              "       ['Female', 37],\n",
              "       ['Male', 36],\n",
              "       ['Male', 60],\n",
              "       ['Male', 54],\n",
              "       ['Female', 41],\n",
              "       ['Male', 40],\n",
              "       ['Male', 42],\n",
              "       ['Male', 43],\n",
              "       ['Female', 53],\n",
              "       ['Female', 47],\n",
              "       ['Female', 42],\n",
              "       ['Male', 42],\n",
              "       ['Female', 59],\n",
              "       ['Female', 58],\n",
              "       ['Male', 46],\n",
              "       ['Male', 38],\n",
              "       ['Female', 54],\n",
              "       ['Female', 60],\n",
              "       ['Male', 60],\n",
              "       ['Female', 39],\n",
              "       ['Male', 59],\n",
              "       ['Female', 37],\n",
              "       ['Female', 46],\n",
              "       ['Female', 46],\n",
              "       ['Female', 42],\n",
              "       ['Male', 41],\n",
              "       ['Female', 58],\n",
              "       ['Male', 42],\n",
              "       ['Male', 48],\n",
              "       ['Female', 44],\n",
              "       ['Male', 49],\n",
              "       ['Female', 57],\n",
              "       ['Male', 56],\n",
              "       ['Female', 49],\n",
              "       ['Male', 39],\n",
              "       ['Male', 47],\n",
              "       ['Female', 48],\n",
              "       ['Male', 48],\n",
              "       ['Male', 47],\n",
              "       ['Female', 45],\n",
              "       ['Male', 60],\n",
              "       ['Female', 39],\n",
              "       ['Female', 46],\n",
              "       ['Male', 51],\n",
              "       ['Female', 50],\n",
              "       ['Male', 36],\n",
              "       ['Female', 49]], dtype=object)"
            ]
          },
          "metadata": {},
          "execution_count": 60
        }
      ]
    },
    {
      "cell_type": "code",
      "source": [
        "# Encoding categorical data\n",
        "\n",
        "# Encoding the Independent Variable\n",
        "from sklearn.preprocessing import LabelEncoder\n",
        "le = LabelEncoder()\n",
        "X[:, 0] = le.fit_transform(X[:, 0]) \n"
      ],
      "metadata": {
        "id": "YLH1QIrOhZsY"
      },
      "execution_count": null,
      "outputs": []
    },
    {
      "cell_type": "code",
      "source": [
        "\n",
        "# Encoding the dependent Variable\n"
      ],
      "metadata": {
        "id": "8qhr6E5FXwec"
      },
      "execution_count": null,
      "outputs": []
    },
    {
      "cell_type": "code",
      "source": [
        "# Splitting the dataset into the Training set and Test set\n",
        "from sklearn.model_selection import train_test_split\n",
        "X_train, X_test, y_train, y_test = train_test_split(X, y, test_size = 0.25   , random_state = 0)"
      ],
      "metadata": {
        "id": "Y72uEntEX43Q"
      },
      "execution_count": null,
      "outputs": []
    },
    {
      "cell_type": "code",
      "source": [
        "# Feature Scaling\n",
        "from sklearn.preprocessing import StandardScaler\n",
        "sc = StandardScaler()\n",
        "X_train = sc.fit_transform(X_train)\n",
        "X_test = sc.transform(X_test)"
      ],
      "metadata": {
        "id": "5MiWFY27YAL_"
      },
      "execution_count": null,
      "outputs": []
    },
    {
      "cell_type": "code",
      "source": [
        "# Fitting K-NN to the Training set\n",
        "from sklearn.neighbors import KNeighborsClassifier\n",
        "classifier = KNeighborsClassifier(n_neighbors = 3, metric = 'minkowski', p = 2)\n",
        "classifier.fit(X_train, y_train)"
      ],
      "metadata": {
        "colab": {
          "base_uri": "https://localhost:8080/"
        },
        "id": "lsuBPcDpYCqw",
        "outputId": "9b9fc1ed-ebbe-4f71-ea24-e5f55f612e45"
      },
      "execution_count": null,
      "outputs": [
        {
          "output_type": "execute_result",
          "data": {
            "text/plain": [
              "KNeighborsClassifier(n_neighbors=3)"
            ]
          },
          "metadata": {},
          "execution_count": 67
        }
      ]
    },
    {
      "cell_type": "code",
      "source": [
        "# Predicting the Test set results\n",
        "y_pred = classifier.predict(X_test)"
      ],
      "metadata": {
        "id": "Bh7M-5XPYO4v"
      },
      "execution_count": null,
      "outputs": []
    },
    {
      "cell_type": "code",
      "source": [
        "# Making the Confusion Matrix\n",
        "from sklearn.metrics import confusion_matrix\n",
        "cm = confusion_matrix(y_test, y_pred)\n",
        "cm"
      ],
      "metadata": {
        "colab": {
          "base_uri": "https://localhost:8080/"
        },
        "id": "UOypK9UbYSwf",
        "outputId": "d261a296-c14e-49d1-befa-f80584830369"
      },
      "execution_count": null,
      "outputs": [
        {
          "output_type": "execute_result",
          "data": {
            "text/plain": [
              "array([[60,  8],\n",
              "       [ 8, 24]])"
            ]
          },
          "metadata": {},
          "execution_count": 76
        }
      ]
    },
    {
      "cell_type": "code",
      "source": [
        "import seaborn as sns\n",
        "group_names = ['True Neg','False Pos','False Neg','True Pos']\n",
        "group_counts = [\"{0:0.0f}\".format(value) for value in\n",
        "                cm.flatten()]\n",
        "group_percentages = [\"{0:.2%}\".format(value) for value in\n",
        "                     cm.flatten()/np.sum(cm)]\n",
        "labels = [f\"{v1}\\n{v2}\\n{v3}\" for v1, v2, v3 in\n",
        "          zip(group_names,group_counts,group_percentages)]\n",
        "labels = np.asarray(labels).reshape(2,2)\n",
        "sns.heatmap(cm, annot=labels, fmt='', cmap='Blues')"
      ],
      "metadata": {
        "colab": {
          "base_uri": "https://localhost:8080/",
          "height": 287
        },
        "id": "2aseMvxdbYLx",
        "outputId": "33dc9410-9011-4cc0-efd3-343dd6593431"
      },
      "execution_count": null,
      "outputs": [
        {
          "output_type": "execute_result",
          "data": {
            "text/plain": [
              "<matplotlib.axes._subplots.AxesSubplot at 0x7f390f7cb590>"
            ]
          },
          "metadata": {},
          "execution_count": 75
        },
        {
          "output_type": "display_data",
          "data": {
            "image/png": "[encoded data removed]",
            "text/plain": [
              "<Figure size 432x288 with 2 Axes>"
            ]
          },
          "metadata": {
            "needs_background": "light"
          }
        }
      ]
    },
    {
      "cell_type": "code",
      "metadata": {
        "id": "cUheTEPMuQ-N",
        "colab": {
          "base_uri": "https://localhost:8080/",
          "height": 663
        },
        "outputId": "455a472d-36e4-4ee9-9e88-e46c5a048810"
      },
      "source": [
        "# Visualising the Training set results\n",
        "from matplotlib.colors import ListedColormap\n",
        "X_set, y_set = X_train, y_train\n",
        "X1, X2 = np.meshgrid(np.arange(start = X_set[:, 0].min() - 1, stop = X_set[:, 0].max() + 1, step = 0.01),\n",
        "                     np.arange(start = X_set[:, 1].min() - 1, stop = X_set[:, 1].max() + 1, step = 0.01))\n",
        "plt.contourf(X1, X2, classifier.predict(np.array([X1.ravel(), X2.ravel()]).T).reshape(X1.shape),\n",
        "             alpha = 0.75, cmap = ListedColormap(('red', 'green')))\n",
        "plt.xlim(X1.min(), X1.max())\n",
        "plt.ylim(X2.min(), X2.max())\n",
        "for i, j in enumerate(np.unique(y_set)):\n",
        "    plt.scatter(X_set[y_set == j, 0], X_set[y_set == j, 1],\n",
        "                c = ListedColormap(('red', 'green'))(i), label = j)\n",
        "plt.title('K-NN (Training set)')\n",
        "plt.xlabel('Age')\n",
        "plt.ylabel('Estimated Salary')\n",
        "plt.legend()\n",
        "plt.show()\n",
        "\n",
        "# Visualising the Test set results\n",
        "from matplotlib.colors import ListedColormap\n",
        "X_set, y_set = X_test, y_test\n",
        "X1, X2 = np.meshgrid(np.arange(start = X_set[:, 0].min() - 1, stop = X_set[:, 0].max() + 1, step = 0.01),\n",
        "                     np.arange(start = X_set[:, 1].min() - 1, stop = X_set[:, 1].max() + 1, step = 0.01))\n",
        "plt.contourf(X1, X2, classifier.predict(np.array([X1.ravel(), X2.ravel()]).T).reshape(X1.shape),\n",
        "             alpha = 0.75, cmap = ListedColormap(('red', 'green')))\n",
        "plt.xlim(X1.min(), X1.max())\n",
        "plt.ylim(X2.min(), X2.max())\n",
        "for i, j in enumerate(np.unique(y_set)):\n",
        "    plt.scatter(X_set[y_set == j, 0], X_set[y_set == j, 1],\n",
        "                c = ListedColormap(('red', 'green'))(i), label = j)\n",
        "plt.title('K-NN (Test set)')\n",
        "plt.xlabel('Age')\n",
        "plt.ylabel('Estimated Salary')\n",
        "plt.legend()\n",
        "plt.show()"
      ],
      "execution_count": null,
      "outputs": [
        {
          "output_type": "stream",
          "name": "stderr",
          "text": [
            "*c* argument looks like a single numeric RGB or RGBA sequence, which should be avoided as value-mapping will have precedence in case its length matches with *x* & *y*.  Please use the *color* keyword-argument or provide a 2-D array with a single row if you intend to specify the same RGB or RGBA value for all points.\n",
            "*c* argument looks like a single numeric RGB or RGBA sequence, which should be avoided as value-mapping will have precedence in case its length matches with *x* & *y*.  Please use the *color* keyword-argument or provide a 2-D array with a single row if you intend to specify the same RGB or RGBA value for all points.\n"
          ]
        },
        {
          "output_type": "display_data",
          "data": {
            "image/png": "[encoded data removed]",
            "text/plain": [
              "<Figure size 432x288 with 1 Axes>"
            ]
          },
          "metadata": {
            "needs_background": "light"
          }
        },
        {
          "output_type": "stream",
          "name": "stderr",
          "text": [
            "*c* argument looks like a single numeric RGB or RGBA sequence, which should be avoided as value-mapping will have precedence in case its length matches with *x* & *y*.  Please use the *color* keyword-argument or provide a 2-D array with a single row if you intend to specify the same RGB or RGBA value for all points.\n",
            "*c* argument looks like a single numeric RGB or RGBA sequence, which should be avoided as value-mapping will have precedence in case its length matches with *x* & *y*.  Please use the *color* keyword-argument or provide a 2-D array with a single row if you intend to specify the same RGB or RGBA value for all points.\n"
          ]
        },
        {
          "output_type": "display_data",
          "data": {
            "image/png": "[encoded data removed]",
            "text/plain": [
              "<Figure size 432x288 with 1 Axes>"
            ]
          },
          "metadata": {
            "needs_background": "light"
          }
        }
      ]
    },
    {
      "cell_type": "code",
      "metadata": {
        "id": "FXI6e9Wlr6Gp"
      },
      "source": [
        ""
      ],
      "execution_count": null,
      "outputs": []
    },
    {
      "cell_type": "code",
      "metadata": {
        "id": "hIf8mFdRr6cQ"
      },
      "source": [
        ""
      ],
      "execution_count": null,
      "outputs": []
    },
    {
      "cell_type": "code",
      "metadata": {
        "id": "KaqSUP7ar6ev"
      },
      "source": [
        ""
      ],
      "execution_count": null,
      "outputs": []
    }
  ]
}